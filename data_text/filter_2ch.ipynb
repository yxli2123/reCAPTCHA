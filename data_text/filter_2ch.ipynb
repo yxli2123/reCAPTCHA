{
 "cells": [
  {
   "cell_type": "code",
   "execution_count": 22,
   "id": "15ec5294",
   "metadata": {},
   "outputs": [],
   "source": [
    "import re\n",
    "import json\n",
    "\n",
    "with open('common_words.txt', 'r') as fp:\n",
    "    text = fp.read()\n",
    "    text = re.findall(\"[^\\u4e00-\\u9fa5][\\u4e00-\\u9fa5][\\u4e00-\\u9fa5] \", text)\n",
    "    text = [word.replace('\\n', '') for word in text]\n",
    "    fp.close()\n",
    "\n",
    "with open('common_words_2ch.txt', 'w', encoding ='utf8') as fp1:\n",
    "    fp1.write(text)\n",
    "    "
   ]
  },
  {
   "cell_type": "code",
   "execution_count": null,
   "id": "5e4cff92",
   "metadata": {},
   "outputs": [],
   "source": []
  }
 ],
 "metadata": {
  "kernelspec": {
   "display_name": "Python 3 (ipykernel)",
   "language": "python",
   "name": "python3"
  },
  "language_info": {
   "codemirror_mode": {
    "name": "ipython",
    "version": 3
   },
   "file_extension": ".py",
   "mimetype": "text/x-python",
   "name": "python",
   "nbconvert_exporter": "python",
   "pygments_lexer": "ipython3",
   "version": "3.9.5"
  }
 },
 "nbformat": 4,
 "nbformat_minor": 5
}
